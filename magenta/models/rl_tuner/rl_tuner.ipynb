{
 "cells": [
  {
   "cell_type": "code",
   "execution_count": 1,
   "metadata": {
    "collapsed": true
   },
   "outputs": [],
   "source": [
    "import os\n",
    "#os.chdir('/home/henri/Documents/')"
   ]
  },
  {
   "cell_type": "code",
   "execution_count": 2,
   "metadata": {
    "collapsed": true
   },
   "outputs": [],
   "source": [
    "import tensorflow as tf\n",
    "import numpy as np\n",
    "import sys\n",
    "\n",
    "from magenta.common import tf_lib"
   ]
  },
  {
   "cell_type": "code",
   "execution_count": 3,
   "metadata": {
    "collapsed": true
   },
   "outputs": [],
   "source": [
    "#from magenta.models.rl_tuner import rl_tuner\n",
    "#from magenta.models.rl_tuner import rl_tuner_ops\n",
    "import rl_tuner\n",
    "import rl_tuner_ops"
   ]
  },
  {
   "cell_type": "code",
   "execution_count": 4,
   "metadata": {
    "collapsed": true
   },
   "outputs": [],
   "source": [
    "# Place to save your model checkpoints and composi\n",
    "SAVE_PATH = \"/home/henri/Documents/Git/magenta/magenta/models/rl_tuner/save_path/\""
   ]
  },
  {
   "cell_type": "code",
   "execution_count": 5,
   "metadata": {
    "collapsed": true
   },
   "outputs": [],
   "source": [
    "# Model parameter settings\n",
    "ALGORITHM = 'q'\n",
    "REWARD_SCALER = 1\n",
    "OUTPUT_EVERY_NTH = 50000\n",
    "NUM_NOTES_IN_COMPOSITION = 32\n",
    "PRIME_WITH_MIDI = False"
   ]
  },
  {
   "cell_type": "code",
   "execution_count": 6,
   "metadata": {
    "collapsed": true
   },
   "outputs": [],
   "source": [
    "rl_tuner_hparams = tf_lib.HParams(random_action_probability=0.1,\n",
    "                                  store_every_nth=1,\n",
    "                                  train_every_nth=5,\n",
    "                                  minibatch_size=32,\n",
    "                                  discount_rate=0.5,\n",
    "                                  max_experience=100000,\n",
    "                                  target_network_update_rate=0.01)"
   ]
  },
  {
   "cell_type": "markdown",
   "metadata": {},
   "source": [
    "## Train network"
   ]
  },
  {
   "cell_type": "code",
   "execution_count": 7,
   "metadata": {
    "collapsed": true
   },
   "outputs": [],
   "source": [
    "reload(rl_tuner_ops)\n",
    "reload(rl_tuner)\n",
    "rl_tuner.reload_files()"
   ]
  },
  {
   "cell_type": "code",
   "execution_count": 8,
   "metadata": {},
   "outputs": [
    {
     "name": "stdout",
     "output_type": "stream",
     "text": [
      "Retrieving checkpoint of Note RNN from Magenta download server.\n",
      "INFO:tensorflow:Initializing q network\n",
      "INFO:tensorflow:Using custom hparams\n",
      "INFO:tensorflow:Initializing melody RNN graph for scope q_network\n",
      "WARNING:tensorflow:<tensorflow.contrib.rnn.python.ops.core_rnn_cell_impl.LSTMCell object at 0x7a32d10>: Using a concatenated state is slower and will soon be deprecated.  Use state_is_tuple=True.\n",
      "INFO:tensorflow:Initializing target q network\n",
      "INFO:tensorflow:Using custom hparams\n",
      "INFO:tensorflow:Initializing melody RNN graph for scope target_q_network\n",
      "WARNING:tensorflow:<tensorflow.contrib.rnn.python.ops.core_rnn_cell_impl.LSTMCell object at 0x7aba350>: Using a concatenated state is slower and will soon be deprecated.  Use state_is_tuple=True.\n",
      "INFO:tensorflow:Initializing reward network\n",
      "INFO:tensorflow:Using custom hparams\n",
      "INFO:tensorflow:Initializing melody RNN graph for scope reward_rnn\n",
      "WARNING:tensorflow:<tensorflow.contrib.rnn.python.ops.core_rnn_cell_impl.LSTMCell object at 0x7cb4950>: Using a concatenated state is slower and will soon be deprecated.  Use state_is_tuple=True.\n",
      "INFO:tensorflow:Q network cell: <tensorflow.contrib.rnn.python.ops.core_rnn_cell_impl.MultiRNNCell object at 0x7a27890>\n",
      "INFO:tensorflow:Adding RL graph variables\n",
      "INFO:tensorflow:Adding reward computation portion of the graph\n",
      "INFO:tensorflow:Adding taking action portion of graph\n",
      "INFO:tensorflow:Add estimating future rewards portion of graph\n",
      "INFO:tensorflow:Adding q value prediction portion of graph\n",
      "INFO:tensorflow:Summary name q_network/rnn/multi_rnn_cell/cell_0/lstm_cell/weights:0 is illegal; using q_network/rnn/multi_rnn_cell/cell_0/lstm_cell/weights_0 instead.\n",
      "INFO:tensorflow:Summary name q_network/rnn/multi_rnn_cell/cell_0/lstm_cell/weights:0/gradients is illegal; using q_network/rnn/multi_rnn_cell/cell_0/lstm_cell/weights_0/gradients instead.\n",
      "INFO:tensorflow:Summary name q_network/rnn/multi_rnn_cell/cell_0/lstm_cell/biases:0 is illegal; using q_network/rnn/multi_rnn_cell/cell_0/lstm_cell/biases_0 instead.\n",
      "INFO:tensorflow:Summary name q_network/rnn/multi_rnn_cell/cell_0/lstm_cell/biases:0/gradients is illegal; using q_network/rnn/multi_rnn_cell/cell_0/lstm_cell/biases_0/gradients instead.\n",
      "INFO:tensorflow:Summary name q_network/fully_connected/weights:0 is illegal; using q_network/fully_connected/weights_0 instead.\n",
      "INFO:tensorflow:Summary name q_network/fully_connected/weights:0/gradients is illegal; using q_network/fully_connected/weights_0/gradients instead.\n",
      "INFO:tensorflow:Summary name q_network/fully_connected/bias:0 is illegal; using q_network/fully_connected/bias_0 instead.\n",
      "INFO:tensorflow:Summary name q_network/fully_connected/bias:0/gradients is illegal; using q_network/fully_connected/bias_0/gradients instead.\n",
      "INFO:tensorflow:Summary name target_q_network/rnn/multi_rnn_cell/cell_0/lstm_cell/weights:0 is illegal; using target_q_network/rnn/multi_rnn_cell/cell_0/lstm_cell/weights_0 instead.\n",
      "INFO:tensorflow:Summary name target_q_network/rnn/multi_rnn_cell/cell_0/lstm_cell/biases:0 is illegal; using target_q_network/rnn/multi_rnn_cell/cell_0/lstm_cell/biases_0 instead.\n",
      "INFO:tensorflow:Summary name target_q_network/fully_connected/weights:0 is illegal; using target_q_network/fully_connected/weights_0 instead.\n",
      "INFO:tensorflow:Summary name target_q_network/fully_connected/bias:0 is illegal; using target_q_network/fully_connected/bias_0 instead.\n",
      "INFO:tensorflow:Summary name reward_rnn/rnn/multi_rnn_cell/cell_0/lstm_cell/weights:0 is illegal; using reward_rnn/rnn/multi_rnn_cell/cell_0/lstm_cell/weights_0 instead.\n",
      "INFO:tensorflow:Summary name reward_rnn/rnn/multi_rnn_cell/cell_0/lstm_cell/biases:0 is illegal; using reward_rnn/rnn/multi_rnn_cell/cell_0/lstm_cell/biases_0 instead.\n",
      "INFO:tensorflow:Summary name reward_rnn/fully_connected/weights:0 is illegal; using reward_rnn/fully_connected/weights_0 instead.\n",
      "INFO:tensorflow:Summary name reward_rnn/fully_connected/bias:0 is illegal; using reward_rnn/fully_connected/bias_0 instead.\n",
      "INFO:tensorflow:Adding target network update portion of graph\n",
      "INFO:tensorflow:Restoring variables from checkpoint\n",
      "INFO:tensorflow:Checkpoint dir: /home/henri/Documents/Git/magenta/magenta/models/rl_tuner\n",
      "WARNING:tensorflow:Can't find checkpoint file, using /home/henri/Documents/Git/magenta/magenta/models/rl_tuner/note_rnn.ckpt\n",
      "INFO:tensorflow:Restoring variables from checkpoint\n",
      "INFO:tensorflow:Checkpoint dir: /home/henri/Documents/Git/magenta/magenta/models/rl_tuner\n",
      "WARNING:tensorflow:Can't find checkpoint file, using /home/henri/Documents/Git/magenta/magenta/models/rl_tuner/note_rnn.ckpt\n",
      "INFO:tensorflow:Restoring variables from checkpoint\n",
      "INFO:tensorflow:Checkpoint dir: /home/henri/Documents/Git/magenta/magenta/models/rl_tuner\n",
      "WARNING:tensorflow:Can't find checkpoint file, using /home/henri/Documents/Git/magenta/magenta/models/rl_tuner/note_rnn.ckpt\n",
      "CRITICAL:tensorflow:Error! The model was not initialized from checkpoint properly\n"
     ]
    }
   ],
   "source": [
    "rl_net = rl_tuner.RLTuner(SAVE_PATH, \n",
    "                          dqn_hparams=rl_tuner_hparams, \n",
    "                          algorithm=ALGORITHM,\n",
    "                          reward_scaler=REWARD_SCALER,\n",
    "                          output_every_nth=OUTPUT_EVERY_NTH,\n",
    "                          num_notes_in_melody=NUM_NOTES_IN_COMPOSITION)"
   ]
  },
  {
   "cell_type": "code",
   "execution_count": 9,
   "metadata": {},
   "outputs": [],
   "source": [
    "# Generate initial music sequence before training with RL\n",
    "#rl_net.generate_music_sequence(visualize_probs=True, title='pre_rl2', length=32)"
   ]
  },
  {
   "cell_type": "code",
   "execution_count": 10,
   "metadata": {},
   "outputs": [
    {
     "name": "stdout",
     "output_type": "stream",
     "text": [
      "INFO:tensorflow:Evaluating initial model...\n"
     ]
    },
    {
     "name": "stderr",
     "output_type": "stream",
     "text": [
      "rl_tuner_ops.py:136: RuntimeWarning: invalid value encountered in double_scalars\n",
      "  return (x[lag:] * x[:n - lag]).sum() / float(n) / c0\n"
     ]
    }
   ],
   "source": [
    "rl_net.train(num_steps=5000, exploration_period=100)"
   ]
  },
  {
   "cell_type": "code",
   "execution_count": 11,
   "metadata": {},
   "outputs": [
    {
     "name": "stdout",
     "output_type": "stream",
     "text": [
      "INFO:tensorflow:Priming with note 7\n",
      "INFO:tensorflow:Generated sequence: [36, 36, 5, 1, 15, 29, 5, 14, 1, 32, 1, 15, 36, 5, 1, 1, 1, 15, 14, 29, 10, 1, 1, 1, 5, 10, 36, 14, 29, 36, 1, 32]\n",
      "Generated sequence: [36, 36, 5, 1, 15, 29, 5, 14, 1, 32, 1, 15, 36, 5, 1, 1, 1, 15, 14, 29, 10, 1, 1, 1, 5, 10, 36, 14, 29, 36, 1, 32]\n",
      "INFO:tensorflow:Wrote a melody to /home/henri/Documents/Git/magenta/magenta/models/rl_tuner/save_path/\n",
      "INFO:tensorflow:Visualizing note selection probabilities:\n"
     ]
    },
    {
     "data": {
      "image/png": "[encoded data removed]",
      "text/plain": [
       "<matplotlib.figure.Figure at 0x970f590>"
      ]
     },
     "metadata": {},
     "output_type": "display_data"
    }
   ],
   "source": [
    "#rl_tuner.DEBUG = True\n",
    "rl_net.generate_music_sequence(visualize_probs=True, title='brief_training', length=32)\n",
    "#rl_net.evaluate_model(10)\n",
    "#rl_tuner.DEBUG = False"
   ]
  },
  {
   "cell_type": "markdown",
   "metadata": {},
   "source": [
    "# This took from 22:40 - 22:53\n",
    "- full training is estimated to take 46 minutes"
   ]
  },
  {
   "cell_type": "code",
   "execution_count": 13,
   "metadata": {},
   "outputs": [
    {
     "name": "stdout",
     "output_type": "stream",
     "text": [
      "INFO:tensorflow:Evaluating initial model...\n",
      "INFO:tensorflow:Evaluating model...\n",
      "INFO:tensorflow:Training iteration 50000\n",
      "INFO:tensorflow:\tReward for last 50000 steps: -821601.786298\n",
      "INFO:tensorflow:\t\tMusic theory reward: -611845.626053\n",
      "INFO:tensorflow:\t\tNote RNN reward: -209756.160245\n",
      "Training iteration 50000\n",
      "\tReward for last 50000 steps: -821601.786298\n",
      "\t\tMusic theory reward: -611845.626053\n",
      "\t\tNote RNN reward: -209756.160245\n",
      "INFO:tensorflow:\tExploration probability is 0.1\n",
      "INFO:tensorflow:Evaluating model...\n",
      "INFO:tensorflow:Training iteration 100000\n",
      "INFO:tensorflow:\tReward for last 50000 steps: -418870.213565\n",
      "INFO:tensorflow:\t\tMusic theory reward: -236305.859807\n",
      "INFO:tensorflow:\t\tNote RNN reward: -182564.353757\n",
      "Training iteration 100000\n",
      "\tReward for last 50000 steps: -418870.213565\n",
      "\t\tMusic theory reward: -236305.859807\n",
      "\t\tNote RNN reward: -182564.353757\n",
      "INFO:tensorflow:\tExploration probability is 0.1\n",
      "INFO:tensorflow:Evaluating model...\n",
      "INFO:tensorflow:Training iteration 150000\n",
      "INFO:tensorflow:\tReward for last 50000 steps: -401914.915967\n",
      "INFO:tensorflow:\t\tMusic theory reward: -219167.222786\n",
      "INFO:tensorflow:\t\tNote RNN reward: -182747.693181\n",
      "Training iteration 150000\n",
      "\tReward for last 50000 steps: -401914.915967\n",
      "\t\tMusic theory reward: -219167.222786\n",
      "\t\tNote RNN reward: -182747.693181\n",
      "INFO:tensorflow:\tExploration probability is 0.1\n",
      "INFO:tensorflow:Evaluating model...\n",
      "INFO:tensorflow:Training iteration 200000\n",
      "INFO:tensorflow:\tReward for last 50000 steps: -283828.731497\n",
      "INFO:tensorflow:\t\tMusic theory reward: -101088.201722\n",
      "INFO:tensorflow:\t\tNote RNN reward: -182740.529775\n",
      "Training iteration 200000\n",
      "\tReward for last 50000 steps: -283828.731497\n",
      "\t\tMusic theory reward: -101088.201722\n",
      "\t\tNote RNN reward: -182740.529775\n",
      "INFO:tensorflow:\tExploration probability is 0.1\n",
      "INFO:tensorflow:Evaluating model...\n",
      "INFO:tensorflow:Training iteration 250000\n",
      "INFO:tensorflow:\tReward for last 50000 steps: -196606.923997\n",
      "INFO:tensorflow:\t\tMusic theory reward: -13654.725495\n",
      "INFO:tensorflow:\t\tNote RNN reward: -182952.198502\n",
      "Training iteration 250000\n",
      "\tReward for last 50000 steps: -196606.923997\n",
      "\t\tMusic theory reward: -13654.725495\n",
      "\t\tNote RNN reward: -182952.198502\n",
      "INFO:tensorflow:\tExploration probability is 0.1\n"
     ]
    }
   ],
   "source": [
    "rl_net.train(num_steps=300000, exploration_period=50000)"
   ]
  },
  {
   "cell_type": "code",
   "execution_count": 14,
   "metadata": {},
   "outputs": [
    {
     "data": {
      "image/png": "[encoded data removed]",
      "text/plain": [
       "<matplotlib.figure.Figure at 0x7f94900317d0>"
      ]
     },
     "metadata": {},
     "output_type": "display_data"
    }
   ],
   "source": [
    "rl_net.plot_rewards()"
   ]
  },
  {
   "cell_type": "code",
   "execution_count": 15,
   "metadata": {},
   "outputs": [
    {
     "name": "stdout",
     "output_type": "stream",
     "text": [
      "INFO:tensorflow:Total compositions: 100.0\n",
      "Total notes:3200.0\n",
      "\tCompositions starting with tonic: 61.0\n",
      "\tCompositions with unique highest note:57.0\n",
      "\tCompositions with unique lowest note:69.0\n",
      "\tNumber of resolved leaps:44.0\n",
      "\tNumber of double leaps:42.0\n",
      "\tNotes not in key:0.0\n",
      "\tNotes in motif:2341.0\n",
      "\tNotes in repeated motif:0.0\n",
      "\tNotes excessively repeated:0.0\n",
      "\n",
      "\tPercent compositions starting with tonic:0.61\n",
      "\tPercent compositions with unique highest note:0.57\n",
      "\tPercent compositions with unique lowest note:0.69\n",
      "\tPercent of leaps resolved:0.511627906977\n",
      "\tPercent notes not in key:0.0\n",
      "\tPercent notes in motif:0.7315625\n",
      "\tPercent notes in repeated motif:0.0\n",
      "\tPercent notes excessively repeated:0.0\n",
      "\n",
      "\tAverage autocorrelation of lag1:0.0888229136857\n",
      "\tAverage autocorrelation of lag2:-0.0439229053951\n",
      "\tAverage autocorrelation of lag3:-0.0885431144304\n",
      "\n",
      "\tAvg. num octave jumps per composition:1.34\n",
      "\tAvg. num sevenths per composition:0.35\n",
      "\tAvg. num fifths per composition:0.94\n",
      "\tAvg. num sixths per composition:1.06\n",
      "\tAvg. num fourths per composition:2.07\n",
      "\tAvg. num rest intervals per composition:1.43\n",
      "\tAvg. num seconds per composition:3.07\n",
      "\tAvg. num thirds per composition:0.9\n",
      "\tAvg. num in key preferred intervals per composition:0.9\n",
      "\tAvg. num special rest intervals per composition:0.36\n",
      "\n",
      "\n"
     ]
    }
   ],
   "source": [
    "# Compute statistics about how well the model adheres to the music theory rules.\n",
    "stat_dict = rl_net.evaluate_music_theory_metrics(num_compositions=100)"
   ]
  },
  {
   "cell_type": "code",
   "execution_count": null,
   "metadata": {},
   "outputs": [],
   "source": [
    "# rl_net.plot_evaluation()"
   ]
  },
  {
   "cell_type": "code",
   "execution_count": 19,
   "metadata": {},
   "outputs": [
    {
     "name": "stdout",
     "output_type": "stream",
     "text": [
      "INFO:tensorflow:Priming with note 10\n",
      "INFO:tensorflow:Generated sequence: [14, 11, 28, 1, 13, 1, 26, 19, 21, 14, 19, 1, 9, 25, 21, 1, 1, 21, 1, 1, 21, 1, 16, 23, 14, 11, 0, 1, 25, 1, 1, 21]\n",
      "Generated sequence: [14, 11, 28, 1, 13, 1, 26, 19, 21, 14, 19, 1, 9, 25, 21, 1, 1, 21, 1, 1, 21, 1, 16, 23, 14, 11, 0, 1, 25, 1, 1, 21]\n",
      "INFO:tensorflow:Wrote a melody to /home/henri/Documents/Git/magenta/magenta/models/rl_tuner/save_path/\n",
      "INFO:tensorflow:Visualizing note selection probabilities:\n"
     ]
    },
    {
     "data": {
      "image/png": "[encoded data removed]",
      "text/plain": [
       "<matplotlib.figure.Figure at 0x1f235fd0>"
      ]
     },
     "metadata": {},
     "output_type": "display_data"
    }
   ],
   "source": [
    "rl_net.generate_music_sequence(visualize_probs=True, title='post_little_rl7-1', length=32)"
   ]
  },
  {
   "cell_type": "code",
   "execution_count": 17,
   "metadata": {},
   "outputs": [],
   "source": [
    "#rl_tuner.DEBUG = True\n",
    "#rl_net.evaluate_model(1)\n",
    "#rl_tuner.DEBUG = False"
   ]
  },
  {
   "cell_type": "code",
   "execution_count": 20,
   "metadata": {},
   "outputs": [
    {
     "data": {
      "image/png": "[encoded data removed]",
      "text/plain": [
       "<matplotlib.figure.Figure at 0x1ede0f10>"
      ]
     },
     "metadata": {},
     "output_type": "display_data"
    }
   ],
   "source": [
    "def one_hot(i, n):\n",
    "    result = np.zeros(n)\n",
    "    result[i] = 1.0\n",
    "    return result\n",
    "\n",
    "melody = [14, 11, 28, 1, 13, 1, 26, 19, 21, 14, 19, 1, 9, 25, 21, 1, 1, 21, 1, 1, 21, 1, 16, 23, 14, 11, 0, 1, 25, 1, 1, 21]\n",
    "to_plot = []\n",
    "prev_note = -1\n",
    "for i, note in enumerate(melody):\n",
    "    if note > 1:\n",
    "        prev_note = note - 2\n",
    "        \n",
    "    if note == 0:\n",
    "        to_plot.append(one_hot(0, 38))\n",
    "    else:\n",
    "        multiplicity = 50\n",
    "        if prev_note % 12 == 0: # C\n",
    "            multiplicity = 200\n",
    "        elif prev_note % 12 == 4: # E\n",
    "            multiplicity = 150\n",
    "        elif prev_note % 12 == 7: # G\n",
    "            multiplicity = 100\n",
    "            \n",
    "        to_plot.append(multiplicity * one_hot(prev_note, 38))\n",
    "\n",
    "to_plot = 255 - np.transpose(to_plot)\n",
    "        \n",
    "import matplotlib.pyplot as plt\n",
    "plt.imshow(to_plot, cmap='gray', interpolation='nearest')\n",
    "plt.show()"
   ]
  },
  {
   "cell_type": "markdown",
   "metadata": {},
   "source": [
    "# Full Training"
   ]
  },
  {
   "cell_type": "code",
   "execution_count": 21,
   "metadata": {},
   "outputs": [
    {
     "name": "stdout",
     "output_type": "stream",
     "text": [
      "INFO:tensorflow:Evaluating initial model...\n",
      "INFO:tensorflow:Evaluating model...\n",
      "INFO:tensorflow:Training iteration 50000\n",
      "INFO:tensorflow:\tReward for last 50000 steps: -1009920.25257\n",
      "INFO:tensorflow:\t\tMusic theory reward: -645535.360885\n",
      "INFO:tensorflow:\t\tNote RNN reward: -364384.891684\n",
      "Training iteration 50000\n",
      "\tReward for last 50000 steps: -1009920.25257\n",
      "\t\tMusic theory reward: -645535.360885\n",
      "\t\tNote RNN reward: -364384.891684\n",
      "INFO:tensorflow:\tExploration probability is 0.9042382\n",
      "INFO:tensorflow:Evaluating model...\n",
      "INFO:tensorflow:Training iteration 100000\n",
      "INFO:tensorflow:\tReward for last 50000 steps: -682335.083747\n",
      "INFO:tensorflow:\t\tMusic theory reward: -500249.007522\n",
      "INFO:tensorflow:\t\tNote RNN reward: -182086.076225\n",
      "Training iteration 100000\n",
      "\tReward for last 50000 steps: -682335.083747\n",
      "\t\tMusic theory reward: -500249.007522\n",
      "\t\tNote RNN reward: -182086.076225\n",
      "INFO:tensorflow:\tExploration probability is 0.8084782\n",
      "INFO:tensorflow:Evaluating model...\n",
      "INFO:tensorflow:Training iteration 150000\n",
      "INFO:tensorflow:\tReward for last 50000 steps: -594346.295449\n",
      "INFO:tensorflow:\t\tMusic theory reward: -412154.159254\n",
      "INFO:tensorflow:\t\tNote RNN reward: -182192.136194\n",
      "Training iteration 150000\n",
      "\tReward for last 50000 steps: -594346.295449\n",
      "\t\tMusic theory reward: -412154.159254\n",
      "\t\tNote RNN reward: -182192.136194\n",
      "INFO:tensorflow:\tExploration probability is 0.7127182\n",
      "INFO:tensorflow:Evaluating model...\n",
      "INFO:tensorflow:Training iteration 200000\n",
      "INFO:tensorflow:\tReward for last 50000 steps: -508383.512488\n",
      "INFO:tensorflow:\t\tMusic theory reward: -326073.04581\n",
      "INFO:tensorflow:\t\tNote RNN reward: -182310.466678\n",
      "Training iteration 200000\n",
      "\tReward for last 50000 steps: -508383.512488\n",
      "\t\tMusic theory reward: -326073.04581\n",
      "\t\tNote RNN reward: -182310.466678\n",
      "INFO:tensorflow:\tExploration probability is 0.6169582\n",
      "INFO:tensorflow:Evaluating model...\n",
      "INFO:tensorflow:Training iteration 250000\n",
      "INFO:tensorflow:\tReward for last 50000 steps: -440303.195401\n",
      "INFO:tensorflow:\t\tMusic theory reward: -257927.682398\n",
      "INFO:tensorflow:\t\tNote RNN reward: -182375.513003\n",
      "Training iteration 250000\n",
      "\tReward for last 50000 steps: -440303.195401\n",
      "\t\tMusic theory reward: -257927.682398\n",
      "\t\tNote RNN reward: -182375.513003\n",
      "INFO:tensorflow:\tExploration probability is 0.5211982\n",
      "INFO:tensorflow:Evaluating model...\n",
      "INFO:tensorflow:Training iteration 300000\n",
      "INFO:tensorflow:\tReward for last 50000 steps: -371319.869873\n",
      "INFO:tensorflow:\t\tMusic theory reward: -188887.529052\n",
      "INFO:tensorflow:\t\tNote RNN reward: -182432.340821\n",
      "Training iteration 300000\n",
      "\tReward for last 50000 steps: -371319.869873\n",
      "\t\tMusic theory reward: -188887.529052\n",
      "\t\tNote RNN reward: -182432.340821\n",
      "INFO:tensorflow:\tExploration probability is 0.4254382\n",
      "INFO:tensorflow:Evaluating model...\n",
      "INFO:tensorflow:Training iteration 350000\n",
      "INFO:tensorflow:\tReward for last 50000 steps: -308597.285151\n",
      "INFO:tensorflow:\t\tMusic theory reward: -126163.000644\n",
      "INFO:tensorflow:\t\tNote RNN reward: -182434.284508\n",
      "Training iteration 350000\n",
      "\tReward for last 50000 steps: -308597.285151\n",
      "\t\tMusic theory reward: -126163.000644\n",
      "\t\tNote RNN reward: -182434.284508\n",
      "INFO:tensorflow:\tExploration probability is 0.3296782\n",
      "INFO:tensorflow:Evaluating model...\n",
      "INFO:tensorflow:Training iteration 400000\n",
      "INFO:tensorflow:\tReward for last 50000 steps: -242967.173929\n",
      "INFO:tensorflow:\t\tMusic theory reward: -60513.9455898\n",
      "INFO:tensorflow:\t\tNote RNN reward: -182453.228339\n",
      "Training iteration 400000\n",
      "\tReward for last 50000 steps: -242967.173929\n",
      "\t\tMusic theory reward: -60513.9455898\n",
      "\t\tNote RNN reward: -182453.228339\n",
      "INFO:tensorflow:\tExploration probability is 0.2339182\n",
      "INFO:tensorflow:Evaluating model...\n",
      "INFO:tensorflow:Training iteration 450000\n",
      "INFO:tensorflow:\tReward for last 50000 steps: -190199.682535\n",
      "INFO:tensorflow:\t\tMusic theory reward: -7740.11097263\n",
      "INFO:tensorflow:\t\tNote RNN reward: -182459.571563\n",
      "Training iteration 450000\n",
      "\tReward for last 50000 steps: -190199.682535\n",
      "\t\tMusic theory reward: -7740.11097263\n",
      "\t\tNote RNN reward: -182459.571563\n",
      "INFO:tensorflow:\tExploration probability is 0.1381582\n",
      "INFO:tensorflow:Evaluating model...\n",
      "INFO:tensorflow:Training iteration 500000\n",
      "INFO:tensorflow:\tReward for last 50000 steps: -129559.905141\n",
      "INFO:tensorflow:\t\tMusic theory reward: 52745.4197763\n",
      "INFO:tensorflow:\t\tNote RNN reward: -182305.324917\n",
      "Training iteration 500000\n",
      "\tReward for last 50000 steps: -129559.905141\n",
      "\t\tMusic theory reward: 52745.4197763\n",
      "\t\tNote RNN reward: -182305.324917\n",
      "INFO:tensorflow:\tExploration probability is 0.1\n",
      "INFO:tensorflow:Evaluating model...\n",
      "INFO:tensorflow:Training iteration 550000\n",
      "INFO:tensorflow:\tReward for last 50000 steps: -121463.55623\n",
      "INFO:tensorflow:\t\tMusic theory reward: 60906.5783792\n",
      "INFO:tensorflow:\t\tNote RNN reward: -182370.13461\n",
      "Training iteration 550000\n",
      "\tReward for last 50000 steps: -121463.55623\n",
      "\t\tMusic theory reward: 60906.5783792\n",
      "\t\tNote RNN reward: -182370.13461\n",
      "INFO:tensorflow:\tExploration probability is 0.1\n",
      "INFO:tensorflow:Evaluating model...\n",
      "INFO:tensorflow:Training iteration 600000\n",
      "INFO:tensorflow:\tReward for last 50000 steps: -108508.885096\n",
      "INFO:tensorflow:\t\tMusic theory reward: 73919.7970281\n",
      "INFO:tensorflow:\t\tNote RNN reward: -182428.682124\n",
      "Training iteration 600000\n",
      "\tReward for last 50000 steps: -108508.885096\n",
      "\t\tMusic theory reward: 73919.7970281\n",
      "\t\tNote RNN reward: -182428.682124\n",
      "INFO:tensorflow:\tExploration probability is 0.1\n",
      "INFO:tensorflow:Evaluating model...\n",
      "INFO:tensorflow:Training iteration 650000\n",
      "INFO:tensorflow:\tReward for last 50000 steps: -114646.678018\n",
      "INFO:tensorflow:\t\tMusic theory reward: 67717.5349615\n",
      "INFO:tensorflow:\t\tNote RNN reward: -182364.212979\n",
      "Training iteration 650000\n",
      "\tReward for last 50000 steps: -114646.678018\n",
      "\t\tMusic theory reward: 67717.5349615\n",
      "\t\tNote RNN reward: -182364.212979\n",
      "INFO:tensorflow:\tExploration probability is 0.1\n",
      "INFO:tensorflow:Evaluating model...\n",
      "INFO:tensorflow:Training iteration 700000\n",
      "INFO:tensorflow:\tReward for last 50000 steps: -115683.50558\n",
      "INFO:tensorflow:\t\tMusic theory reward: 66677.0824636\n",
      "INFO:tensorflow:\t\tNote RNN reward: -182360.588044\n",
      "Training iteration 700000\n",
      "\tReward for last 50000 steps: -115683.50558\n",
      "\t\tMusic theory reward: 66677.0824636\n",
      "\t\tNote RNN reward: -182360.588044\n",
      "INFO:tensorflow:\tExploration probability is 0.1\n",
      "INFO:tensorflow:Evaluating model...\n",
      "INFO:tensorflow:Training iteration 750000\n",
      "INFO:tensorflow:\tReward for last 50000 steps: -108386.556841\n",
      "INFO:tensorflow:\t\tMusic theory reward: 74063.9121728\n",
      "INFO:tensorflow:\t\tNote RNN reward: -182450.469014\n",
      "Training iteration 750000\n",
      "\tReward for last 50000 steps: -108386.556841\n",
      "\t\tMusic theory reward: 74063.9121728\n",
      "\t\tNote RNN reward: -182450.469014\n",
      "INFO:tensorflow:\tExploration probability is 0.1\n",
      "INFO:tensorflow:Evaluating model...\n",
      "INFO:tensorflow:Training iteration 800000\n",
      "INFO:tensorflow:\tReward for last 50000 steps: -112071.608042\n",
      "INFO:tensorflow:\t\tMusic theory reward: 70304.0428644\n",
      "INFO:tensorflow:\t\tNote RNN reward: -182375.650906\n",
      "Training iteration 800000\n",
      "\tReward for last 50000 steps: -112071.608042\n",
      "\t\tMusic theory reward: 70304.0428644\n",
      "\t\tNote RNN reward: -182375.650906\n",
      "INFO:tensorflow:\tExploration probability is 0.1\n",
      "INFO:tensorflow:Evaluating model...\n",
      "INFO:tensorflow:Training iteration 850000\n",
      "INFO:tensorflow:\tReward for last 50000 steps: -101413.986207\n",
      "INFO:tensorflow:\t\tMusic theory reward: 80951.8227887\n",
      "INFO:tensorflow:\t\tNote RNN reward: -182365.808995\n",
      "Training iteration 850000\n",
      "\tReward for last 50000 steps: -101413.986207\n",
      "\t\tMusic theory reward: 80951.8227887\n",
      "\t\tNote RNN reward: -182365.808995\n",
      "INFO:tensorflow:\tExploration probability is 0.1\n",
      "INFO:tensorflow:Evaluating model...\n",
      "INFO:tensorflow:Training iteration 900000\n",
      "INFO:tensorflow:\tReward for last 50000 steps: -99827.605863\n",
      "INFO:tensorflow:\t\tMusic theory reward: 82534.7525741\n",
      "INFO:tensorflow:\t\tNote RNN reward: -182362.358437\n",
      "Training iteration 900000\n",
      "\tReward for last 50000 steps: -99827.605863\n",
      "\t\tMusic theory reward: 82534.7525741\n",
      "\t\tNote RNN reward: -182362.358437\n",
      "INFO:tensorflow:\tExploration probability is 0.1\n",
      "INFO:tensorflow:Evaluating model...\n",
      "INFO:tensorflow:Training iteration 950000\n",
      "INFO:tensorflow:\tReward for last 50000 steps: -102790.265869\n",
      "INFO:tensorflow:\t\tMusic theory reward: 79712.1656872\n",
      "INFO:tensorflow:\t\tNote RNN reward: -182502.431556\n",
      "Training iteration 950000\n",
      "\tReward for last 50000 steps: -102790.265869\n",
      "\t\tMusic theory reward: 79712.1656872\n",
      "\t\tNote RNN reward: -182502.431556\n",
      "INFO:tensorflow:\tExploration probability is 0.1\n"
     ]
    }
   ],
   "source": [
    "rl_net.train(num_steps=1000000, exploration_period=500000)"
   ]
  },
  {
   "cell_type": "code",
   "execution_count": 22,
   "metadata": {},
   "outputs": [
    {
     "data": {
      "image/png": "[encoded data removed]",
      "text/plain": [
       "<matplotlib.figure.Figure at 0x1f6c6410>"
      ]
     },
     "metadata": {},
     "output_type": "display_data"
    }
   ],
   "source": [
    "# Plot the rewards received during training. Improves as chance of random exploration action decreases.\n",
    "rl_net.plot_rewards()"
   ]
  },
  {
   "cell_type": "code",
   "execution_count": 23,
   "metadata": {},
   "outputs": [],
   "source": [
    "# Plot rewards received during calls to evaluation function throughout training. \n",
    "# Does not include exploration or random actions.\n",
    "#rl_net.plot_evaluation()"
   ]
  },
  {
   "cell_type": "code",
   "execution_count": 29,
   "metadata": {},
   "outputs": [
    {
     "name": "stdout",
     "output_type": "stream",
     "text": [
      "INFO:tensorflow:Priming with note 20\n",
      "INFO:tensorflow:Generated sequence: [14, 14, 14, 18, 1, 14, 16, 25, 16, 28, 25, 30, 1, 30, 28, 30, 30, 1, 33, 26, 30, 31, 1, 1, 31, 23, 19, 18, 13, 0, 1, 23]\n",
      "Generated sequence: [14, 14, 14, 18, 1, 14, 16, 25, 16, 28, 25, 30, 1, 30, 28, 30, 30, 1, 33, 26, 30, 31, 1, 1, 31, 23, 19, 18, 13, 0, 1, 23]\n",
      "INFO:tensorflow:Wrote a melody to /home/henri/Documents/Git/magenta/magenta/models/rl_tuner/save_path/\n",
      "INFO:tensorflow:Visualizing note selection probabilities:\n"
     ]
    },
    {
     "data": {
      "image/png": "[encoded data removed]",
      "text/plain": [
       "<matplotlib.figure.Figure at 0x1f21a550>"
      ]
     },
     "metadata": {},
     "output_type": "display_data"
    }
   ],
   "source": [
    "rl_net.generate_music_sequence(visualize_probs=True, title='post_rl7-1')"
   ]
  },
  {
   "cell_type": "code",
   "execution_count": null,
   "metadata": {
    "collapsed": true
   },
   "outputs": [],
   "source": []
  },
  {
   "cell_type": "code",
   "execution_count": 51,
   "metadata": {
    "collapsed": true
   },
   "outputs": [],
   "source": [
    "# If you're happy with the model, save a version!\n",
    "rl_net.save_model(SAVE_PATH, 'their_model')"
   ]
  },
  {
   "cell_type": "code",
   "execution_count": 43,
   "metadata": {},
   "outputs": [
    {
     "name": "stdout",
     "output_type": "stream",
     "text": [
      "INFO:tensorflow:Total compositions: 100.0\n",
      "Total notes:3200.0\n",
      "\tCompositions starting with tonic: 51.0\n",
      "\tCompositions with unique highest note:75.0\n",
      "\tCompositions with unique lowest note:43.0\n",
      "\tNumber of resolved leaps:133.0\n",
      "\tNumber of double leaps:51.0\n",
      "\tNotes not in key:489.0\n",
      "\tNotes in motif:2491.0\n",
      "\tNotes in repeated motif:0.0\n",
      "\tNotes excessively repeated:0.0\n",
      "\n",
      "\tPercent compositions starting with tonic:0.51\n",
      "\tPercent compositions with unique highest note:0.75\n",
      "\tPercent compositions with unique lowest note:0.43\n",
      "\tPercent of leaps resolved:0.722826086957\n",
      "\tPercent notes not in key:0.1528125\n",
      "\tPercent notes in motif:0.7784375\n",
      "\tPercent notes in repeated motif:0.0\n",
      "\tPercent notes excessively repeated:0.0\n",
      "\n",
      "\tAverage autocorrelation of lag1:0.234460036411\n",
      "\tAverage autocorrelation of lag2:0.140511755453\n",
      "\tAverage autocorrelation of lag3:0.117044649122\n",
      "\n",
      "\tAvg. num octave jumps per composition:0.26\n",
      "\tAvg. num sevenths per composition:0.28\n",
      "\tAvg. num fifths per composition:0.54\n",
      "\tAvg. num sixths per composition:1.29\n",
      "\tAvg. num fourths per composition:4.27\n",
      "\tAvg. num rest intervals per composition:0.76\n",
      "\tAvg. num seconds per composition:3.18\n",
      "\tAvg. num thirds per composition:2.46\n",
      "\tAvg. num in key preferred intervals per composition:1.31\n",
      "\tAvg. num special rest intervals per composition:0.88\n",
      "\n",
      "\n"
     ]
    }
   ],
   "source": [
    "# Compute statistics about how well the model adheres to the music theory rules.\n",
    "stat_dict = rl_net.evaluate_music_theory_metrics(num_compositions=100)"
   ]
  },
  {
   "cell_type": "markdown",
   "metadata": {},
   "source": [
    "# Check that you can restore\n",
    "- currently doesn't work"
   ]
  },
  {
   "cell_type": "code",
   "execution_count": 16,
   "metadata": {
    "scrolled": false
   },
   "outputs": [
    {
     "name": "stdout",
     "output_type": "stream",
     "text": [
      "INFO:tensorflow:Initializing q network\n",
      "INFO:tensorflow:Using custom hparams\n",
      "INFO:tensorflow:Initializing melody RNN graph for scope q_network\n",
      "WARNING:tensorflow:<tensorflow.contrib.rnn.python.ops.core_rnn_cell_impl.LSTMCell object at 0xc20ab90>: Using a concatenated state is slower and will soon be deprecated.  Use state_is_tuple=True.\n",
      "INFO:tensorflow:Initializing target q network\n",
      "INFO:tensorflow:Using custom hparams\n",
      "INFO:tensorflow:Initializing melody RNN graph for scope target_q_network\n",
      "WARNING:tensorflow:<tensorflow.contrib.rnn.python.ops.core_rnn_cell_impl.LSTMCell object at 0xc16f110>: Using a concatenated state is slower and will soon be deprecated.  Use state_is_tuple=True.\n",
      "INFO:tensorflow:Initializing reward network\n",
      "INFO:tensorflow:Using custom hparams\n",
      "INFO:tensorflow:Initializing melody RNN graph for scope reward_rnn\n",
      "WARNING:tensorflow:<tensorflow.contrib.rnn.python.ops.core_rnn_cell_impl.LSTMCell object at 0xc2b5110>: Using a concatenated state is slower and will soon be deprecated.  Use state_is_tuple=True.\n",
      "INFO:tensorflow:Q network cell: <tensorflow.contrib.rnn.python.ops.core_rnn_cell_impl.MultiRNNCell object at 0xc20aa50>\n",
      "INFO:tensorflow:Adding RL graph variables\n",
      "INFO:tensorflow:Adding reward computation portion of the graph\n",
      "INFO:tensorflow:Adding taking action portion of graph\n",
      "INFO:tensorflow:Add estimating future rewards portion of graph\n",
      "INFO:tensorflow:Adding q value prediction portion of graph\n",
      "INFO:tensorflow:Summary name q_network/rnn/multi_rnn_cell/cell_0/lstm_cell/weights:0 is illegal; using q_network/rnn/multi_rnn_cell/cell_0/lstm_cell/weights_0 instead.\n",
      "INFO:tensorflow:Summary name q_network/rnn/multi_rnn_cell/cell_0/lstm_cell/weights:0/gradients is illegal; using q_network/rnn/multi_rnn_cell/cell_0/lstm_cell/weights_0/gradients instead.\n",
      "INFO:tensorflow:Summary name q_network/rnn/multi_rnn_cell/cell_0/lstm_cell/biases:0 is illegal; using q_network/rnn/multi_rnn_cell/cell_0/lstm_cell/biases_0 instead.\n",
      "INFO:tensorflow:Summary name q_network/rnn/multi_rnn_cell/cell_0/lstm_cell/biases:0/gradients is illegal; using q_network/rnn/multi_rnn_cell/cell_0/lstm_cell/biases_0/gradients instead.\n",
      "INFO:tensorflow:Summary name q_network/fully_connected/weights:0 is illegal; using q_network/fully_connected/weights_0 instead.\n",
      "INFO:tensorflow:Summary name q_network/fully_connected/weights:0/gradients is illegal; using q_network/fully_connected/weights_0/gradients instead.\n",
      "INFO:tensorflow:Summary name q_network/fully_connected/bias:0 is illegal; using q_network/fully_connected/bias_0 instead.\n",
      "INFO:tensorflow:Summary name q_network/fully_connected/bias:0/gradients is illegal; using q_network/fully_connected/bias_0/gradients instead.\n",
      "INFO:tensorflow:Summary name target_q_network/rnn/multi_rnn_cell/cell_0/lstm_cell/weights:0 is illegal; using target_q_network/rnn/multi_rnn_cell/cell_0/lstm_cell/weights_0 instead.\n",
      "INFO:tensorflow:Summary name target_q_network/rnn/multi_rnn_cell/cell_0/lstm_cell/biases:0 is illegal; using target_q_network/rnn/multi_rnn_cell/cell_0/lstm_cell/biases_0 instead.\n",
      "INFO:tensorflow:Summary name target_q_network/fully_connected/weights:0 is illegal; using target_q_network/fully_connected/weights_0 instead.\n",
      "INFO:tensorflow:Summary name target_q_network/fully_connected/bias:0 is illegal; using target_q_network/fully_connected/bias_0 instead.\n",
      "INFO:tensorflow:Summary name reward_rnn/rnn/multi_rnn_cell/cell_0/lstm_cell/weights:0 is illegal; using reward_rnn/rnn/multi_rnn_cell/cell_0/lstm_cell/weights_0 instead.\n",
      "INFO:tensorflow:Summary name reward_rnn/rnn/multi_rnn_cell/cell_0/lstm_cell/biases:0 is illegal; using reward_rnn/rnn/multi_rnn_cell/cell_0/lstm_cell/biases_0 instead.\n",
      "INFO:tensorflow:Summary name reward_rnn/fully_connected/weights:0 is illegal; using reward_rnn/fully_connected/weights_0 instead.\n",
      "INFO:tensorflow:Summary name reward_rnn/fully_connected/bias:0 is illegal; using reward_rnn/fully_connected/bias_0 instead.\n",
      "INFO:tensorflow:Adding target network update portion of graph\n",
      "INFO:tensorflow:Restoring variables from checkpoint\n",
      "INFO:tensorflow:Checkpoint dir: /home/henri/Documents/Git/magenta/magenta/models/rl_tuner/save_path\n",
      "INFO:tensorflow:Checkpoint file: /home/henri/Documents/Git/magenta/magenta/models/rl_tuner/save_path/test_model.ckpt-0\n"
     ]
    },
    {
     "ename": "NotFoundError",
     "evalue": "Key rnn_model/rnn/multi_rnn_cell/cell_0/lstm_cell/weights not found in checkpoint\n\t [[Node: save_1/RestoreV2_3 = RestoreV2[dtypes=[DT_FLOAT], _device=\"/job:localhost/replica:0/task:0/cpu:0\"](_recv_save_1/Const_0, save_1/RestoreV2_3/tensor_names, save_1/RestoreV2_3/shape_and_slices)]]\n\nCaused by op u'save_1/RestoreV2_3', defined at:\n  File \"/usr/lib64/python2.7/runpy.py\", line 162, in _run_module_as_main\n    \"__main__\", fname, loader, pkg_name)\n  File \"/usr/lib64/python2.7/runpy.py\", line 72, in _run_code\n    exec code in run_globals\n  File \"/home/henri/venvs/magentavenv/lib/python2.7/site-packages/ipykernel_launcher.py\", line 16, in <module>\n    app.launch_new_instance()\n  File \"/home/henri/venvs/magentavenv/lib/python2.7/site-packages/traitlets/config/application.py\", line 658, in launch_instance\n    app.start()\n  File \"/home/henri/venvs/magentavenv/lib/python2.7/site-packages/ipykernel/kernelapp.py\", line 477, in start\n    ioloop.IOLoop.instance().start()\n  File \"/home/henri/venvs/magentavenv/lib/python2.7/site-packages/zmq/eventloop/ioloop.py\", line 177, in start\n    super(ZMQIOLoop, self).start()\n  File \"/home/henri/venvs/magentavenv/lib/python2.7/site-packages/tornado/ioloop.py\", line 888, in start\n    handler_func(fd_obj, events)\n  File \"/home/henri/venvs/magentavenv/lib/python2.7/site-packages/tornado/stack_context.py\", line 277, in null_wrapper\n    return fn(*args, **kwargs)\n  File \"/home/henri/venvs/magentavenv/lib/python2.7/site-packages/zmq/eventloop/zmqstream.py\", line 440, in _handle_events\n    self._handle_recv()\n  File \"/home/henri/venvs/magentavenv/lib/python2.7/site-packages/zmq/eventloop/zmqstream.py\", line 472, in _handle_recv\n    self._run_callback(callback, msg)\n  File \"/home/henri/venvs/magentavenv/lib/python2.7/site-packages/zmq/eventloop/zmqstream.py\", line 414, in _run_callback\n    callback(*args, **kwargs)\n  File \"/home/henri/venvs/magentavenv/lib/python2.7/site-packages/tornado/stack_context.py\", line 277, in null_wrapper\n    return fn(*args, **kwargs)\n  File \"/home/henri/venvs/magentavenv/lib/python2.7/site-packages/ipykernel/kernelbase.py\", line 283, in dispatcher\n    return self.dispatch_shell(stream, msg)\n  File \"/home/henri/venvs/magentavenv/lib/python2.7/site-packages/ipykernel/kernelbase.py\", line 235, in dispatch_shell\n    handler(stream, idents, msg)\n  File \"/home/henri/venvs/magentavenv/lib/python2.7/site-packages/ipykernel/kernelbase.py\", line 399, in execute_request\n    user_expressions, allow_stdin)\n  File \"/home/henri/venvs/magentavenv/lib/python2.7/site-packages/ipykernel/ipkernel.py\", line 196, in do_execute\n    res = shell.run_cell(code, store_history=store_history, silent=silent)\n  File \"/home/henri/venvs/magentavenv/lib/python2.7/site-packages/ipykernel/zmqshell.py\", line 533, in run_cell\n    return super(ZMQInteractiveShell, self).run_cell(*args, **kwargs)\n  File \"/home/henri/venvs/magentavenv/lib/python2.7/site-packages/IPython/core/interactiveshell.py\", line 2717, in run_cell\n    interactivity=interactivity, compiler=compiler, result=result)\n  File \"/home/henri/venvs/magentavenv/lib/python2.7/site-packages/IPython/core/interactiveshell.py\", line 2821, in run_ast_nodes\n    if self.run_code(code, result):\n  File \"/home/henri/venvs/magentavenv/lib/python2.7/site-packages/IPython/core/interactiveshell.py\", line 2881, in run_code\n    exec(code_obj, self.user_global_ns, self.user_ns)\n  File \"<ipython-input-16-37b389a54f3b>\", line 8, in <module>\n    note_rnn_checkpoint_file=\"/home/henri/Documents/Git/magenta/magenta/models/rl_tuner/save_path/test_model.ckpt\")\n  File \"rl_tuner.py\", line 236, in __init__\n    self.initialize_internal_models_graph_session()\n  File \"rl_tuner.py\", line 300, in initialize_internal_models_graph_session\n    self.q_network.initialize_and_restore(self.session)\n  File \"note_rnn_loader.py\", line 142, in initialize_and_restore\n    self.restore_vars_from_checkpoint(self.checkpoint_dir)\n  File \"note_rnn_loader.py\", line 274, in restore_vars_from_checkpoint\n    saver = tf.train.Saver(var_list=var_dict)\n  File \"/home/henri/venvs/magentavenv/lib/python2.7/site-packages/tensorflow/python/training/saver.py\", line 1051, in __init__\n    self.build()\n  File \"/home/henri/venvs/magentavenv/lib/python2.7/site-packages/tensorflow/python/training/saver.py\", line 1081, in build\n    restore_sequentially=self._restore_sequentially)\n  File \"/home/henri/venvs/magentavenv/lib/python2.7/site-packages/tensorflow/python/training/saver.py\", line 675, in build\n    restore_sequentially, reshape)\n  File \"/home/henri/venvs/magentavenv/lib/python2.7/site-packages/tensorflow/python/training/saver.py\", line 402, in _AddRestoreOps\n    tensors = self.restore_op(filename_tensor, saveable, preferred_shard)\n  File \"/home/henri/venvs/magentavenv/lib/python2.7/site-packages/tensorflow/python/training/saver.py\", line 242, in restore_op\n    [spec.tensor.dtype])[0])\n  File \"/home/henri/venvs/magentavenv/lib/python2.7/site-packages/tensorflow/python/ops/gen_io_ops.py\", line 668, in restore_v2\n    dtypes=dtypes, name=name)\n  File \"/home/henri/venvs/magentavenv/lib/python2.7/site-packages/tensorflow/python/framework/op_def_library.py\", line 763, in apply_op\n    op_def=op_def)\n  File \"/home/henri/venvs/magentavenv/lib/python2.7/site-packages/tensorflow/python/framework/ops.py\", line 2395, in create_op\n    original_op=self._default_original_op, op_def=op_def)\n  File \"/home/henri/venvs/magentavenv/lib/python2.7/site-packages/tensorflow/python/framework/ops.py\", line 1264, in __init__\n    self._traceback = _extract_stack()\n\nNotFoundError (see above for traceback): Key rnn_model/rnn/multi_rnn_cell/cell_0/lstm_cell/weights not found in checkpoint\n\t [[Node: save_1/RestoreV2_3 = RestoreV2[dtypes=[DT_FLOAT], _device=\"/job:localhost/replica:0/task:0/cpu:0\"](_recv_save_1/Const_0, save_1/RestoreV2_3/tensor_names, save_1/RestoreV2_3/shape_and_slices)]]\n",
     "output_type": "error",
     "traceback": [
      "\u001b[0;31m---------------------------------------------------------------------------\u001b[0m",
      "\u001b[0;31mNotFoundError\u001b[0m                             Traceback (most recent call last)",
      "\u001b[0;32m<ipython-input-16-37b389a54f3b>\u001b[0m in \u001b[0;36m<module>\u001b[0;34m()\u001b[0m\n\u001b[1;32m      6\u001b[0m                           \u001b[0mnum_notes_in_melody\u001b[0m\u001b[0;34m=\u001b[0m\u001b[0mNUM_NOTES_IN_COMPOSITION\u001b[0m\u001b[0;34m,\u001b[0m\u001b[0;34m\u001b[0m\u001b[0m\n\u001b[1;32m      7\u001b[0m                           \u001b[0mnote_rnn_checkpoint_dir\u001b[0m\u001b[0;34m=\u001b[0m\u001b[0;34m\"/home/henri/Documents/Git/magenta/magenta/models/rl_tuner/save_path\"\u001b[0m\u001b[0;34m,\u001b[0m\u001b[0;34m\u001b[0m\u001b[0m\n\u001b[0;32m----> 8\u001b[0;31m                           note_rnn_checkpoint_file=\"/home/henri/Documents/Git/magenta/magenta/models/rl_tuner/save_path/test_model.ckpt\")\n\u001b[0m",
      "\u001b[0;32m/home/henri/Documents/Git/magenta/magenta/models/rl_tuner/rl_tuner.pyc\u001b[0m in \u001b[0;36m__init__\u001b[0;34m(self, output_dir, dqn_hparams, reward_mode, reward_scaler, exploration_mode, priming_mode, stochastic_observations, algorithm, note_rnn_checkpoint_dir, note_rnn_checkpoint_file, note_rnn_type, note_rnn_hparams, num_notes_in_melody, input_size, num_actions, midi_primer, save_name, output_every_nth, training_file_list, summary_writer, initialize_immediately)\u001b[0m\n\u001b[1;32m    234\u001b[0m \u001b[0;34m\u001b[0m\u001b[0m\n\u001b[1;32m    235\u001b[0m     \u001b[0;32mif\u001b[0m \u001b[0minitialize_immediately\u001b[0m\u001b[0;34m:\u001b[0m\u001b[0;34m\u001b[0m\u001b[0m\n\u001b[0;32m--> 236\u001b[0;31m       \u001b[0mself\u001b[0m\u001b[0;34m.\u001b[0m\u001b[0minitialize_internal_models_graph_session\u001b[0m\u001b[0;34m(\u001b[0m\u001b[0;34m)\u001b[0m\u001b[0;34m\u001b[0m\u001b[0m\n\u001b[0m\u001b[1;32m    237\u001b[0m \u001b[0;34m\u001b[0m\u001b[0m\n\u001b[1;32m    238\u001b[0m   def initialize_internal_models_graph_session(self,\n",
      "\u001b[0;32m/home/henri/Documents/Git/magenta/magenta/models/rl_tuner/rl_tuner.pyc\u001b[0m in \u001b[0;36minitialize_internal_models_graph_session\u001b[0;34m(self, restore_from_checkpoint)\u001b[0m\n\u001b[1;32m    298\u001b[0m       \u001b[0;31m# Initialize internal networks.\u001b[0m\u001b[0;34m\u001b[0m\u001b[0;34m\u001b[0m\u001b[0m\n\u001b[1;32m    299\u001b[0m       \u001b[0;32mif\u001b[0m \u001b[0mrestore_from_checkpoint\u001b[0m\u001b[0;34m:\u001b[0m\u001b[0;34m\u001b[0m\u001b[0m\n\u001b[0;32m--> 300\u001b[0;31m         \u001b[0mself\u001b[0m\u001b[0;34m.\u001b[0m\u001b[0mq_network\u001b[0m\u001b[0;34m.\u001b[0m\u001b[0minitialize_and_restore\u001b[0m\u001b[0;34m(\u001b[0m\u001b[0mself\u001b[0m\u001b[0;34m.\u001b[0m\u001b[0msession\u001b[0m\u001b[0;34m)\u001b[0m\u001b[0;34m\u001b[0m\u001b[0m\n\u001b[0m\u001b[1;32m    301\u001b[0m         \u001b[0mself\u001b[0m\u001b[0;34m.\u001b[0m\u001b[0mtarget_q_network\u001b[0m\u001b[0;34m.\u001b[0m\u001b[0minitialize_and_restore\u001b[0m\u001b[0;34m(\u001b[0m\u001b[0mself\u001b[0m\u001b[0;34m.\u001b[0m\u001b[0msession\u001b[0m\u001b[0;34m)\u001b[0m\u001b[0;34m\u001b[0m\u001b[0m\n\u001b[1;32m    302\u001b[0m         \u001b[0mself\u001b[0m\u001b[0;34m.\u001b[0m\u001b[0mreward_rnn\u001b[0m\u001b[0;34m.\u001b[0m\u001b[0minitialize_and_restore\u001b[0m\u001b[0;34m(\u001b[0m\u001b[0mself\u001b[0m\u001b[0;34m.\u001b[0m\u001b[0msession\u001b[0m\u001b[0;34m)\u001b[0m\u001b[0;34m\u001b[0m\u001b[0m\n",
      "\u001b[0;32m/home/henri/Documents/Git/magenta/magenta/models/rl_tuner/note_rnn_loader.pyc\u001b[0m in \u001b[0;36minitialize_and_restore\u001b[0;34m(self, session)\u001b[0m\n\u001b[1;32m    140\u001b[0m     \"\"\"\n\u001b[1;32m    141\u001b[0m     \u001b[0mself\u001b[0m\u001b[0;34m.\u001b[0m\u001b[0msession\u001b[0m \u001b[0;34m=\u001b[0m \u001b[0msession\u001b[0m\u001b[0;34m\u001b[0m\u001b[0m\n\u001b[0;32m--> 142\u001b[0;31m     \u001b[0mself\u001b[0m\u001b[0;34m.\u001b[0m\u001b[0mrestore_vars_from_checkpoint\u001b[0m\u001b[0;34m(\u001b[0m\u001b[0mself\u001b[0m\u001b[0;34m.\u001b[0m\u001b[0mcheckpoint_dir\u001b[0m\u001b[0;34m)\u001b[0m\u001b[0;34m\u001b[0m\u001b[0m\n\u001b[0m\u001b[1;32m    143\u001b[0m \u001b[0;34m\u001b[0m\u001b[0m\n\u001b[1;32m    144\u001b[0m   \u001b[0;32mdef\u001b[0m \u001b[0minitialize_new\u001b[0m\u001b[0;34m(\u001b[0m\u001b[0mself\u001b[0m\u001b[0;34m,\u001b[0m \u001b[0msession\u001b[0m\u001b[0;34m=\u001b[0m\u001b[0mNone\u001b[0m\u001b[0;34m)\u001b[0m\u001b[0;34m:\u001b[0m\u001b[0;34m\u001b[0m\u001b[0m\n",
      "\u001b[0;32m/home/henri/Documents/Git/magenta/magenta/models/rl_tuner/note_rnn_loader.pyc\u001b[0m in \u001b[0;36mrestore_vars_from_checkpoint\u001b[0;34m(self, checkpoint_dir)\u001b[0m\n\u001b[1;32m    283\u001b[0m       \u001b[0mtf\u001b[0m\u001b[0;34m.\u001b[0m\u001b[0mlogging\u001b[0m\u001b[0;34m.\u001b[0m\u001b[0minfo\u001b[0m\u001b[0;34m(\u001b[0m\u001b[0;34m'Checkpoint file: %s'\u001b[0m\u001b[0;34m,\u001b[0m \u001b[0mcheckpoint_file\u001b[0m\u001b[0;34m)\u001b[0m\u001b[0;34m\u001b[0m\u001b[0m\n\u001b[1;32m    284\u001b[0m \u001b[0;34m\u001b[0m\u001b[0m\n\u001b[0;32m--> 285\u001b[0;31m       \u001b[0msaver\u001b[0m\u001b[0;34m.\u001b[0m\u001b[0mrestore\u001b[0m\u001b[0;34m(\u001b[0m\u001b[0mself\u001b[0m\u001b[0;34m.\u001b[0m\u001b[0msession\u001b[0m\u001b[0;34m,\u001b[0m \u001b[0mcheckpoint_file\u001b[0m\u001b[0;34m)\u001b[0m\u001b[0;34m\u001b[0m\u001b[0m\n\u001b[0m\u001b[1;32m    286\u001b[0m \u001b[0;34m\u001b[0m\u001b[0m\n\u001b[1;32m    287\u001b[0m   \u001b[0;32mdef\u001b[0m \u001b[0mload_primer\u001b[0m\u001b[0;34m(\u001b[0m\u001b[0mself\u001b[0m\u001b[0;34m)\u001b[0m\u001b[0;34m:\u001b[0m\u001b[0;34m\u001b[0m\u001b[0m\n",
      "\u001b[0;32m/home/henri/venvs/magentavenv/lib/python2.7/site-packages/tensorflow/python/training/saver.pyc\u001b[0m in \u001b[0;36mrestore\u001b[0;34m(self, sess, save_path)\u001b[0m\n\u001b[1;32m   1437\u001b[0m       \u001b[0;32mreturn\u001b[0m\u001b[0;34m\u001b[0m\u001b[0m\n\u001b[1;32m   1438\u001b[0m     sess.run(self.saver_def.restore_op_name,\n\u001b[0;32m-> 1439\u001b[0;31m              {self.saver_def.filename_tensor_name: save_path})\n\u001b[0m\u001b[1;32m   1440\u001b[0m \u001b[0;34m\u001b[0m\u001b[0m\n\u001b[1;32m   1441\u001b[0m   \u001b[0;34m@\u001b[0m\u001b[0mstaticmethod\u001b[0m\u001b[0;34m\u001b[0m\u001b[0m\n",
      "\u001b[0;32m/home/henri/venvs/magentavenv/lib/python2.7/site-packages/tensorflow/python/client/session.pyc\u001b[0m in \u001b[0;36mrun\u001b[0;34m(self, fetches, feed_dict, options, run_metadata)\u001b[0m\n\u001b[1;32m    765\u001b[0m     \u001b[0;32mtry\u001b[0m\u001b[0;34m:\u001b[0m\u001b[0;34m\u001b[0m\u001b[0m\n\u001b[1;32m    766\u001b[0m       result = self._run(None, fetches, feed_dict, options_ptr,\n\u001b[0;32m--> 767\u001b[0;31m                          run_metadata_ptr)\n\u001b[0m\u001b[1;32m    768\u001b[0m       \u001b[0;32mif\u001b[0m \u001b[0mrun_metadata\u001b[0m\u001b[0;34m:\u001b[0m\u001b[0;34m\u001b[0m\u001b[0m\n\u001b[1;32m    769\u001b[0m         \u001b[0mproto_data\u001b[0m \u001b[0;34m=\u001b[0m \u001b[0mtf_session\u001b[0m\u001b[0;34m.\u001b[0m\u001b[0mTF_GetBuffer\u001b[0m\u001b[0;34m(\u001b[0m\u001b[0mrun_metadata_ptr\u001b[0m\u001b[0;34m)\u001b[0m\u001b[0;34m\u001b[0m\u001b[0m\n",
      "\u001b[0;32m/home/henri/venvs/magentavenv/lib/python2.7/site-packages/tensorflow/python/client/session.pyc\u001b[0m in \u001b[0;36m_run\u001b[0;34m(self, handle, fetches, feed_dict, options, run_metadata)\u001b[0m\n\u001b[1;32m    963\u001b[0m     \u001b[0;32mif\u001b[0m \u001b[0mfinal_fetches\u001b[0m \u001b[0;32mor\u001b[0m \u001b[0mfinal_targets\u001b[0m\u001b[0;34m:\u001b[0m\u001b[0;34m\u001b[0m\u001b[0m\n\u001b[1;32m    964\u001b[0m       results = self._do_run(handle, final_targets, final_fetches,\n\u001b[0;32m--> 965\u001b[0;31m                              feed_dict_string, options, run_metadata)\n\u001b[0m\u001b[1;32m    966\u001b[0m     \u001b[0;32melse\u001b[0m\u001b[0;34m:\u001b[0m\u001b[0;34m\u001b[0m\u001b[0m\n\u001b[1;32m    967\u001b[0m       \u001b[0mresults\u001b[0m \u001b[0;34m=\u001b[0m \u001b[0;34m[\u001b[0m\u001b[0;34m]\u001b[0m\u001b[0;34m\u001b[0m\u001b[0m\n",
      "\u001b[0;32m/home/henri/venvs/magentavenv/lib/python2.7/site-packages/tensorflow/python/client/session.pyc\u001b[0m in \u001b[0;36m_do_run\u001b[0;34m(self, handle, target_list, fetch_list, feed_dict, options, run_metadata)\u001b[0m\n\u001b[1;32m   1013\u001b[0m     \u001b[0;32mif\u001b[0m \u001b[0mhandle\u001b[0m \u001b[0;32mis\u001b[0m \u001b[0mNone\u001b[0m\u001b[0;34m:\u001b[0m\u001b[0;34m\u001b[0m\u001b[0m\n\u001b[1;32m   1014\u001b[0m       return self._do_call(_run_fn, self._session, feed_dict, fetch_list,\n\u001b[0;32m-> 1015\u001b[0;31m                            target_list, options, run_metadata)\n\u001b[0m\u001b[1;32m   1016\u001b[0m     \u001b[0;32melse\u001b[0m\u001b[0;34m:\u001b[0m\u001b[0;34m\u001b[0m\u001b[0m\n\u001b[1;32m   1017\u001b[0m       return self._do_call(_prun_fn, self._session, handle, feed_dict,\n",
      "\u001b[0;32m/home/henri/venvs/magentavenv/lib/python2.7/site-packages/tensorflow/python/client/session.pyc\u001b[0m in \u001b[0;36m_do_call\u001b[0;34m(self, fn, *args)\u001b[0m\n\u001b[1;32m   1033\u001b[0m         \u001b[0;32mexcept\u001b[0m \u001b[0mKeyError\u001b[0m\u001b[0;34m:\u001b[0m\u001b[0;34m\u001b[0m\u001b[0m\n\u001b[1;32m   1034\u001b[0m           \u001b[0;32mpass\u001b[0m\u001b[0;34m\u001b[0m\u001b[0m\n\u001b[0;32m-> 1035\u001b[0;31m       \u001b[0;32mraise\u001b[0m \u001b[0mtype\u001b[0m\u001b[0;34m(\u001b[0m\u001b[0me\u001b[0m\u001b[0;34m)\u001b[0m\u001b[0;34m(\u001b[0m\u001b[0mnode_def\u001b[0m\u001b[0;34m,\u001b[0m \u001b[0mop\u001b[0m\u001b[0;34m,\u001b[0m \u001b[0mmessage\u001b[0m\u001b[0;34m)\u001b[0m\u001b[0;34m\u001b[0m\u001b[0m\n\u001b[0m\u001b[1;32m   1036\u001b[0m \u001b[0;34m\u001b[0m\u001b[0m\n\u001b[1;32m   1037\u001b[0m   \u001b[0;32mdef\u001b[0m \u001b[0m_extend_graph\u001b[0m\u001b[0;34m(\u001b[0m\u001b[0mself\u001b[0m\u001b[0;34m)\u001b[0m\u001b[0;34m:\u001b[0m\u001b[0;34m\u001b[0m\u001b[0m\n",
      "\u001b[0;31mNotFoundError\u001b[0m: Key rnn_model/rnn/multi_rnn_cell/cell_0/lstm_cell/weights not found in checkpoint\n\t [[Node: save_1/RestoreV2_3 = RestoreV2[dtypes=[DT_FLOAT], _device=\"/job:localhost/replica:0/task:0/cpu:0\"](_recv_save_1/Const_0, save_1/RestoreV2_3/tensor_names, save_1/RestoreV2_3/shape_and_slices)]]\n\nCaused by op u'save_1/RestoreV2_3', defined at:\n  File \"/usr/lib64/python2.7/runpy.py\", line 162, in _run_module_as_main\n    \"__main__\", fname, loader, pkg_name)\n  File \"/usr/lib64/python2.7/runpy.py\", line 72, in _run_code\n    exec code in run_globals\n  File \"/home/henri/venvs/magentavenv/lib/python2.7/site-packages/ipykernel_launcher.py\", line 16, in <module>\n    app.launch_new_instance()\n  File \"/home/henri/venvs/magentavenv/lib/python2.7/site-packages/traitlets/config/application.py\", line 658, in launch_instance\n    app.start()\n  File \"/home/henri/venvs/magentavenv/lib/python2.7/site-packages/ipykernel/kernelapp.py\", line 477, in start\n    ioloop.IOLoop.instance().start()\n  File \"/home/henri/venvs/magentavenv/lib/python2.7/site-packages/zmq/eventloop/ioloop.py\", line 177, in start\n    super(ZMQIOLoop, self).start()\n  File \"/home/henri/venvs/magentavenv/lib/python2.7/site-packages/tornado/ioloop.py\", line 888, in start\n    handler_func(fd_obj, events)\n  File \"/home/henri/venvs/magentavenv/lib/python2.7/site-packages/tornado/stack_context.py\", line 277, in null_wrapper\n    return fn(*args, **kwargs)\n  File \"/home/henri/venvs/magentavenv/lib/python2.7/site-packages/zmq/eventloop/zmqstream.py\", line 440, in _handle_events\n    self._handle_recv()\n  File \"/home/henri/venvs/magentavenv/lib/python2.7/site-packages/zmq/eventloop/zmqstream.py\", line 472, in _handle_recv\n    self._run_callback(callback, msg)\n  File \"/home/henri/venvs/magentavenv/lib/python2.7/site-packages/zmq/eventloop/zmqstream.py\", line 414, in _run_callback\n    callback(*args, **kwargs)\n  File \"/home/henri/venvs/magentavenv/lib/python2.7/site-packages/tornado/stack_context.py\", line 277, in null_wrapper\n    return fn(*args, **kwargs)\n  File \"/home/henri/venvs/magentavenv/lib/python2.7/site-packages/ipykernel/kernelbase.py\", line 283, in dispatcher\n    return self.dispatch_shell(stream, msg)\n  File \"/home/henri/venvs/magentavenv/lib/python2.7/site-packages/ipykernel/kernelbase.py\", line 235, in dispatch_shell\n    handler(stream, idents, msg)\n  File \"/home/henri/venvs/magentavenv/lib/python2.7/site-packages/ipykernel/kernelbase.py\", line 399, in execute_request\n    user_expressions, allow_stdin)\n  File \"/home/henri/venvs/magentavenv/lib/python2.7/site-packages/ipykernel/ipkernel.py\", line 196, in do_execute\n    res = shell.run_cell(code, store_history=store_history, silent=silent)\n  File \"/home/henri/venvs/magentavenv/lib/python2.7/site-packages/ipykernel/zmqshell.py\", line 533, in run_cell\n    return super(ZMQInteractiveShell, self).run_cell(*args, **kwargs)\n  File \"/home/henri/venvs/magentavenv/lib/python2.7/site-packages/IPython/core/interactiveshell.py\", line 2717, in run_cell\n    interactivity=interactivity, compiler=compiler, result=result)\n  File \"/home/henri/venvs/magentavenv/lib/python2.7/site-packages/IPython/core/interactiveshell.py\", line 2821, in run_ast_nodes\n    if self.run_code(code, result):\n  File \"/home/henri/venvs/magentavenv/lib/python2.7/site-packages/IPython/core/interactiveshell.py\", line 2881, in run_code\n    exec(code_obj, self.user_global_ns, self.user_ns)\n  File \"<ipython-input-16-37b389a54f3b>\", line 8, in <module>\n    note_rnn_checkpoint_file=\"/home/henri/Documents/Git/magenta/magenta/models/rl_tuner/save_path/test_model.ckpt\")\n  File \"rl_tuner.py\", line 236, in __init__\n    self.initialize_internal_models_graph_session()\n  File \"rl_tuner.py\", line 300, in initialize_internal_models_graph_session\n    self.q_network.initialize_and_restore(self.session)\n  File \"note_rnn_loader.py\", line 142, in initialize_and_restore\n    self.restore_vars_from_checkpoint(self.checkpoint_dir)\n  File \"note_rnn_loader.py\", line 274, in restore_vars_from_checkpoint\n    saver = tf.train.Saver(var_list=var_dict)\n  File \"/home/henri/venvs/magentavenv/lib/python2.7/site-packages/tensorflow/python/training/saver.py\", line 1051, in __init__\n    self.build()\n  File \"/home/henri/venvs/magentavenv/lib/python2.7/site-packages/tensorflow/python/training/saver.py\", line 1081, in build\n    restore_sequentially=self._restore_sequentially)\n  File \"/home/henri/venvs/magentavenv/lib/python2.7/site-packages/tensorflow/python/training/saver.py\", line 675, in build\n    restore_sequentially, reshape)\n  File \"/home/henri/venvs/magentavenv/lib/python2.7/site-packages/tensorflow/python/training/saver.py\", line 402, in _AddRestoreOps\n    tensors = self.restore_op(filename_tensor, saveable, preferred_shard)\n  File \"/home/henri/venvs/magentavenv/lib/python2.7/site-packages/tensorflow/python/training/saver.py\", line 242, in restore_op\n    [spec.tensor.dtype])[0])\n  File \"/home/henri/venvs/magentavenv/lib/python2.7/site-packages/tensorflow/python/ops/gen_io_ops.py\", line 668, in restore_v2\n    dtypes=dtypes, name=name)\n  File \"/home/henri/venvs/magentavenv/lib/python2.7/site-packages/tensorflow/python/framework/op_def_library.py\", line 763, in apply_op\n    op_def=op_def)\n  File \"/home/henri/venvs/magentavenv/lib/python2.7/site-packages/tensorflow/python/framework/ops.py\", line 2395, in create_op\n    original_op=self._default_original_op, op_def=op_def)\n  File \"/home/henri/venvs/magentavenv/lib/python2.7/site-packages/tensorflow/python/framework/ops.py\", line 1264, in __init__\n    self._traceback = _extract_stack()\n\nNotFoundError (see above for traceback): Key rnn_model/rnn/multi_rnn_cell/cell_0/lstm_cell/weights not found in checkpoint\n\t [[Node: save_1/RestoreV2_3 = RestoreV2[dtypes=[DT_FLOAT], _device=\"/job:localhost/replica:0/task:0/cpu:0\"](_recv_save_1/Const_0, save_1/RestoreV2_3/tensor_names, save_1/RestoreV2_3/shape_and_slices)]]\n"
     ]
    }
   ],
   "source": [
    "rl_net = rl_tuner.RLTuner(SAVE_PATH, \n",
    "                          dqn_hparams=rl_tuner_hparams, \n",
    "                          algorithm=ALGORITHM,\n",
    "                          reward_scaler=REWARD_SCALER,\n",
    "                          output_every_nth=OUTPUT_EVERY_NTH,\n",
    "                          num_notes_in_melody=NUM_NOTES_IN_COMPOSITION)"
   ]
  },
  {
   "cell_type": "code",
   "execution_count": 14,
   "metadata": {
    "collapsed": true
   },
   "outputs": [],
   "source": [
    "rl_net.save_model('test_model.ckpt', directory=SAVE_PATH)"
   ]
  },
  {
   "cell_type": "code",
   "execution_count": 49,
   "metadata": {},
   "outputs": [
    {
     "name": "stdout",
     "output_type": "stream",
     "text": [
      "INFO:tensorflow:Priming with note 25\n",
      "INFO:tensorflow:Generated sequence: [6, 24, 0, 30, 2, 17, 6, 37, 35, 1, 1, 32, 35, 5, 20, 24, 12, 3, 23, 29, 10, 29, 19, 8, 20, 19, 20, 21, 1, 34, 6, 7]\n",
      "Generated sequence: [6, 24, 0, 30, 2, 17, 6, 37, 35, 1, 1, 32, 35, 5, 20, 24, 12, 3, 23, 29, 10, 29, 19, 8, 20, 19, 20, 21, 1, 34, 6, 7]\n",
      "INFO:tensorflow:Wrote a melody to /home/henri/Documents/Git/magenta/magenta/models/rl_tuner/save_path/\n",
      "INFO:tensorflow:Visualizing note selection probabilities:\n"
     ]
    },
    {
     "data": {
      "image/png": "[encoded data removed]",
      "text/plain": [
       "<matplotlib.figure.Figure at 0x7a3c850>"
      ]
     },
     "metadata": {},
     "output_type": "display_data"
    }
   ],
   "source": [
    "rl_net.generate_music_sequence(visualize_probs=True, title='test')"
   ]
  },
  {
   "cell_type": "code",
   "execution_count": 50,
   "metadata": {},
   "outputs": [
    {
     "name": "stdout",
     "output_type": "stream",
     "text": [
      "INFO:tensorflow:Total compositions: 100.0\n",
      "Total notes:3200.0\n",
      "\tCompositions starting with tonic: 5.0\n",
      "\tCompositions with unique highest note:72.0\n",
      "\tCompositions with unique lowest note:61.0\n",
      "\tNumber of resolved leaps:4.0\n",
      "\tNumber of double leaps:186.0\n",
      "\tNotes not in key:1254.0\n",
      "\tNotes in motif:2500.0\n",
      "\tNotes in repeated motif:0.0\n",
      "\tNotes excessively repeated:0.0\n",
      "\n",
      "\tPercent compositions starting with tonic:0.05\n",
      "\tPercent compositions with unique highest note:0.72\n",
      "\tPercent compositions with unique lowest note:0.61\n",
      "\tPercent of leaps resolved:0.0210526315789\n",
      "\tPercent notes not in key:0.391875\n",
      "\tPercent notes in motif:0.78125\n",
      "\tPercent notes in repeated motif:0.0\n",
      "\tPercent notes excessively repeated:0.0\n",
      "\n",
      "\tAverage autocorrelation of lag1:-0.0216135577138\n",
      "\tAverage autocorrelation of lag2:-0.0260634926946\n",
      "\tAverage autocorrelation of lag3:-0.053052280602\n",
      "\n",
      "\tAvg. num octave jumps per composition:12.4\n",
      "\tAvg. num sevenths per composition:0.97\n",
      "\tAvg. num fifths per composition:1.14\n",
      "\tAvg. num sixths per composition:1.27\n",
      "\tAvg. num fourths per composition:1.27\n",
      "\tAvg. num rest intervals per composition:0.65\n",
      "\tAvg. num seconds per composition:1.67\n",
      "\tAvg. num thirds per composition:1.12\n",
      "\tAvg. num in key preferred intervals per composition:0.3\n",
      "\tAvg. num special rest intervals per composition:0.14\n",
      "\n",
      "\n"
     ]
    }
   ],
   "source": [
    "# Compute statistics about how well the model adheres to the music theory rules.\n",
    "stat_dict = rl_net.evaluate_music_theory_metrics(num_compositions=100)"
   ]
  },
  {
   "cell_type": "code",
   "execution_count": null,
   "metadata": {
    "collapsed": true
   },
   "outputs": [],
   "source": []
  }
 ],
 "metadata": {
  "kernelspec": {
   "display_name": "Python 2",
   "language": "python",
   "name": "python2"
  },
  "language_info": {
   "codemirror_mode": {
    "name": "ipython",
    "version": 2
   },
   "file_extension": ".py",
   "mimetype": "text/x-python",
   "name": "python",
   "nbconvert_exporter": "python",
   "pygments_lexer": "ipython2",
   "version": "2.7.5"
  }
 },
 "nbformat": 4,
 "nbformat_minor": 1
}
